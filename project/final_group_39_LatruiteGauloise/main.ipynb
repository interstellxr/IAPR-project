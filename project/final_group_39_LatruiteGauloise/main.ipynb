{
 "cells": [
  {
   "cell_type": "markdown",
   "id": "fe933ee4",
   "metadata": {},
   "source": [
    "# The CHOCOdetector pipeline"
   ]
  },
  {
   "cell_type": "code",
   "execution_count": 16,
   "id": "505429ad",
   "metadata": {},
   "outputs": [
    {
     "name": "stdout",
     "output_type": "stream",
     "text": [
      "The autoreload extension is already loaded. To reload it, use:\n",
      "  %reload_ext autoreload\n"
     ]
    }
   ],
   "source": [
    "%load_ext autoreload\n",
    "%autoreload 2"
   ]
  },
  {
   "cell_type": "code",
   "execution_count": 17,
   "id": "cb39f7bf",
   "metadata": {},
   "outputs": [],
   "source": [
    "import pickle\n",
    "import itertools\n",
    "import pandas as pd\n",
    "from pathlib import Path\n",
    "from src.chocodetector import ChocoDetector\n",
    "from src.utils import *"
   ]
  },
  {
   "cell_type": "code",
   "execution_count": 18,
   "id": "fb673434",
   "metadata": {},
   "outputs": [],
   "source": [
    "reference_filenames, reference_images = load_images(\n",
    "    # dir=\"data/references\", downsampling_factor=4\n",
    "    dir=\"/Users/subnaulitus/Documents/EPFL/Master/MA2/EE-451/IAPR_39/project/data/references\", downsampling_factor=4\n",
    ")"
   ]
  },
  {
   "cell_type": "code",
   "execution_count": 19,
   "id": "077c5be5",
   "metadata": {},
   "outputs": [],
   "source": [
    "training_filenames, training_images = load_images(\n",
    "    # dir=\"data/train\", downsampling_factor=4\n",
    "    dir=\"/Users/subnaulitus/Documents/EPFL/Master/MA2/EE-451/IAPR_39/project/data/train\", downsampling_factor=4\n",
    ")"
   ]
  },
  {
   "cell_type": "code",
   "execution_count": 20,
   "id": "772a6144",
   "metadata": {},
   "outputs": [],
   "source": [
    "testing_filenames, testing_images = load_images(\n",
    "    # dir=\"data/test\", downsampling_factor=4,\n",
    "    dir=\"/Users/subnaulitus/Documents/EPFL/Master/MA2/EE-451/IAPR_39/project/data/test\", downsampling_factor=4,\n",
    ")"
   ]
  },
  {
   "cell_type": "code",
   "execution_count": 21,
   "id": "e24eb521",
   "metadata": {},
   "outputs": [
    {
     "name": "stdout",
     "output_type": "stream",
     "text": [
      "DEBUG - Optimisation is False: (180, 13)\n",
      "DEBUG - Running pipeline on 180 samples\n"
     ]
    },
    {
     "name": "stderr",
     "output_type": "stream",
     "text": [
      "100%|██████████| 180/180 [04:58<00:00,  1.66s/img]\n"
     ]
    }
   ],
   "source": [
    "model = ChocoDetector(\n",
    "\tsliding_window_size=64,\n",
    "\tsliding_window_stride=8,\n",
    "\tn_bins_histogram=16,\n",
    "\theatmap_percentile=97.3,\n",
    "\tblob_min_sigma=3.0,\n",
    "\tblob_max_sigma=8.0,\n",
    "\tblob_thr=0.06,\n",
    "\tblob_avg_R=6,\n",
    "\t# classifier_checkpoint_path=\"./checkpoints/svc_chocolate_classifier.pkl\", # 99% pca\n",
    "\tclassifier_checkpoint_path=\"./checkpoints/svc_chocolate_classifier95.pkl\", # 95% pca\n",
    "\tsubmission_template_df=pd.read_csv(\"/Users/subnaulitus/Documents/EPFL/Master/MA2/EE-451/IAPR_39/project/data/sample_submission.csv\"),\n",
    "\ttrain_labels_df=pd.read_csv(\"/Users/subnaulitus/Documents/EPFL/Master/MA2/EE-451/IAPR_39/project/data/train.csv\"),\n",
    "\toptimisation_mode=False,\n",
    ")\n",
    "\n",
    "model.load_data(\n",
    "\tref_images_rgb=reference_images,\n",
    "\tref_filenames=reference_filenames,\n",
    "\ttrain_images_rgb=training_images,\n",
    "\ttrain_filenames=training_filenames,\n",
    "\ttest_images_rgb=testing_images,\n",
    "\ttest_filenames=testing_filenames,\n",
    ")\n",
    "    \n",
    "general_back_submission = model.run()"
   ]
  },
  {
   "cell_type": "code",
   "execution_count": 22,
   "id": "c2f90b74",
   "metadata": {},
   "outputs": [],
   "source": [
    "clean_back_submission = pd.read_csv('./clean_background_result.csv', index_col='id')"
   ]
  },
  {
   "cell_type": "code",
   "execution_count": 23,
   "id": "c6178eb0",
   "metadata": {},
   "outputs": [],
   "source": [
    "# Merge the dataframes, replacing rows in general_back_submission with matching IDs from clean_back_submission\n",
    "for idx in clean_back_submission.index:\n",
    "    general_back_submission.loc[idx] = clean_back_submission.loc[idx]"
   ]
  },
  {
   "cell_type": "code",
   "execution_count": 24,
   "id": "c68ba94b",
   "metadata": {},
   "outputs": [],
   "source": [
    "final_submission = general_back_submission.copy(deep=True)\n",
    "final_submission.to_csv('final_submission.csv', index=True)"
   ]
  }
 ],
 "metadata": {
  "kernelspec": {
   "display_name": "ee-451",
   "language": "python",
   "name": "python3"
  },
  "language_info": {
   "codemirror_mode": {
    "name": "ipython",
    "version": 3
   },
   "file_extension": ".py",
   "mimetype": "text/x-python",
   "name": "python",
   "nbconvert_exporter": "python",
   "pygments_lexer": "ipython3",
   "version": "3.9.22"
  }
 },
 "nbformat": 4,
 "nbformat_minor": 5
}
