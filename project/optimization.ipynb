{
 "cells": [
  {
   "cell_type": "code",
   "execution_count": 108,
   "id": "1ba9dc01",
   "metadata": {},
   "outputs": [
    {
     "data": {
      "text/plain": [
       "<module 'chocodetector' from '/home/hthums/master_projects/IAPR/project/project/chocodetector.py'>"
      ]
     },
     "execution_count": 108,
     "metadata": {},
     "output_type": "execute_result"
    }
   ],
   "source": [
    "import importlib\n",
    "from chocodetector import *\n",
    "chocodetector = importlib.import_module('chocodetector')\n",
    "importlib.reload(chocodetector)"
   ]
  },
  {
   "cell_type": "code",
   "execution_count": 32,
   "id": "2e250089",
   "metadata": {},
   "outputs": [],
   "source": [
    "ref_dir = 'chocolate-recognition-classic/dataset_project_iapr2025/references/'\n",
    "train_dir = 'chocolate-recognition-classic/dataset_project_iapr2025/train/'\n",
    "\n",
    "df_gt = pd.read_csv('chocolate-recognition-classic/dataset_project_iapr2025/train.csv')\n",
    "\n",
    "\n",
    "df_pred = ChocoDetector(ref_path=ref_dir, train_path=train_dir, features=['gabor', 'lbp'],\n",
    "                        pca_percentile=0.95, blob_percentile=95, window_size=80, step_size=10, ood_percentile=95, \n",
    "                        dt_gt=df_gt)"
   ]
  },
  {
   "cell_type": "code",
   "execution_count": null,
   "id": "0cdaa7eb",
   "metadata": {},
   "outputs": [
    {
     "name": "stdout",
     "output_type": "stream",
     "text": [
      "Macro F1 Score (count-based): 0.2085\n",
      "Jelly White: 0.3357\n",
      "Jelly Milk: 0.2000\n",
      "Jelly Black: 0.2411\n",
      "Amandina: 0.4133\n",
      "Crème brulée: 0.2647\n",
      "Triangolo: 0.1935\n",
      "Tentation noir: 0.0000\n",
      "Comtesse: 0.0333\n",
      "Noblesse: 0.4478\n",
      "Noir authentique: 0.2716\n",
      "Passion au lait: 0.0000\n",
      "Arabia: 0.1194\n",
      "Stracciatella: 0.1905\n"
     ]
    }
   ],
   "source": [
    "y_true = df_gt.iloc[:, 1:].values\n",
    "y_pred = df_pred.iloc[:, 1:].values\n",
    "\n",
    "macro_f1, f1_per_class = f1_score_counts(y_true, y_pred)\n",
    "\n",
    "print(f\"Macro F1 Score: {macro_f1:.4f}\")\n",
    "\n",
    "for choc, f1_val in zip(df_gt.columns[1:], f1_per_class):\n",
    "    print(f\"{choc}: {f1_val:.4f}\")"
   ]
  },
  {
   "cell_type": "code",
   "execution_count": 110,
   "id": "ba71b2bd",
   "metadata": {},
   "outputs": [],
   "source": [
    "# Load the reference images and training images\n",
    "\n",
    "ref_dir = 'chocolate-recognition-classic/dataset_project_iapr2025/references/'\n",
    "train_dir = 'chocolate-recognition-classic/dataset_project_iapr2025/train/'\n",
    "\n",
    "ref_image_names = os.listdir(ref_dir)\n",
    "ref_images = [cv2.imread(os.path.join(ref_dir, img)) for img in ref_image_names]\n",
    "ref_images = [cv2.resize(img, (img.shape[1] // 4, img.shape[0] // 4)) for img in ref_images]\n",
    "ref_images_rgb = [cv2.cvtColor(img, cv2.COLOR_BGR2RGB) for img in ref_images]\n",
    "ref_images_gray = [cv2.cvtColor(img, cv2.COLOR_BGR2GRAY) for img in ref_images]\n",
    "\n",
    "rgb_images, gray_images, train_names = load_training_images(train_dir)\n",
    "\n",
    "features = ['gabor', 'lbp', 'hisogram']\n",
    "\n",
    "df_gt = pd.read_csv('chocolate-recognition-classic/dataset_project_iapr2025/train.csv')"
   ]
  },
  {
   "cell_type": "markdown",
   "id": "04347f7a",
   "metadata": {},
   "source": [
    "Optimization"
   ]
  },
  {
   "cell_type": "code",
   "execution_count": 113,
   "id": "d6dd16c1",
   "metadata": {},
   "outputs": [],
   "source": [
    "def evaluate_detector(**kwargs):\n",
    "    df_pred = ChocoDetectorv2(\n",
    "        ref_images_rgb=ref_images_rgb,\n",
    "        ref_images_gray=ref_images_gray,\n",
    "        ref_image_names=ref_image_names,\n",
    "        rgb_images=rgb_images,\n",
    "        train_names=train_names,\n",
    "        features=features,\n",
    "        df_gt=df_gt,\n",
    "        **kwargs\n",
    "    )\n",
    "\n",
    "    y_true = df_gt.iloc[:, 1:].values\n",
    "    y_pred = df_pred.iloc[:, 1:].values\n",
    "\n",
    "    macro_f1, _ = f1_score_counts(y_true, y_pred)\n",
    "    return macro_f1"
   ]
  },
  {
   "cell_type": "code",
   "execution_count": null,
   "id": "61b2ec60",
   "metadata": {},
   "outputs": [],
   "source": [
    "# Define search ranges for each hyperparameter\n",
    "pca_range = np.array([0.95, 0.9999])              # Step 1\n",
    "blob_range = np.arange(95, 99, 1)                     # Step 2\n",
    "window_range = np.arange(55, 65, 1)                  # Step 3\n",
    "step_range = np.arange(8, 12, 1)                       # Step 4\n",
    "ood_range = np.arange(50, 100, 10)                      # Step 5\n",
    "\n",
    "# Initialize default/baseline values\n",
    "best_params = {\n",
    "    \"pca_percentile\": 0.95,\n",
    "    \"blob_percentile\": 95,\n",
    "    \"window_size\": 80,\n",
    "    \"step_size\": 10,\n",
    "    \"ood_percentile\": 95\n",
    "}\n",
    "\n",
    "# Step 1: Optimize PCA percentile\n",
    "best_score = -1\n",
    "for pca in pca_range:\n",
    "    params = {**best_params, \"pca_percentile\": pca}\n",
    "    score = evaluate_detector(**params)\n",
    "    if score > best_score:\n",
    "        best_score = score\n",
    "        best_params[\"pca_percentile\"] = pca\n",
    "print(f\"Best PCA: {best_params['pca_percentile']}, Score: {best_score:.4f}\")\n",
    "\n",
    "# Step 2: Optimize blob percentile\n",
    "best_score = -1\n",
    "for blob in blob_range:\n",
    "    params = {**best_params, \"blob_percentile\": blob}\n",
    "    score = evaluate_detector(**params)\n",
    "    if score > best_score:\n",
    "        best_score = score\n",
    "        best_params[\"blob_percentile\"] = blob\n",
    "print(f\"Best Blob: {best_params['blob_percentile']}, Score: {best_score:.4f}\")\n",
    "\n",
    "# Step 3: Optimize window size\n",
    "best_score = -1\n",
    "for window in window_range:\n",
    "    params = {**best_params, \"window_size\": window}\n",
    "    score = evaluate_detector(**params)\n",
    "    if score > best_score:\n",
    "        best_score = score\n",
    "        best_params[\"window_size\"] = window\n",
    "print(f\"Best Window: {best_params['window_size']}, Score: {best_score:.4f}\")\n",
    "\n",
    "# Step 4: Optimize step size\n",
    "best_score = -1\n",
    "for step in step_range:\n",
    "    params = {**best_params, \"step_size\": step}\n",
    "    score = evaluate_detector(**params)\n",
    "    if score > best_score:\n",
    "        best_score = score\n",
    "        best_params[\"step_size\"] = step\n",
    "print(f\"Best Step: {best_params['step_size']}, Score: {best_score:.4f}\")\n",
    "\n",
    "# Step 5: Optimize OOD percentile\n",
    "best_score = -1\n",
    "for ood in ood_range:\n",
    "    params = {**best_params, \"ood_percentile\": ood}\n",
    "    score = evaluate_detector(**params)\n",
    "    if score > best_score:\n",
    "        best_score = score \n",
    "        best_params[\"ood_percentile\"] = ood\n",
    "print(f\"Best OOD: {best_params['ood_percentile']}, Score: {best_score:.4f}\")\n"
   ]
  },
  {
   "cell_type": "code",
   "execution_count": null,
   "id": "92fef805",
   "metadata": {},
   "outputs": [],
   "source": [
    "best_params = {\n",
    "    \"pca_percentile\": 0.95,\n",
    "    \"blob_percentile\": 95,\n",
    "    \"window_size\": 60,\n",
    "    \"step_size\": 10,\n",
    "    \"ood_percentile\": 95\n",
    "}\n",
    "\n",
    "print(evaluate_detector(**best_params))"
   ]
  }
 ],
 "metadata": {
  "kernelspec": {
   "display_name": "iapr_project",
   "language": "python",
   "name": "python3"
  },
  "language_info": {
   "codemirror_mode": {
    "name": "ipython",
    "version": 3
   },
   "file_extension": ".py",
   "mimetype": "text/x-python",
   "name": "python",
   "nbconvert_exporter": "python",
   "pygments_lexer": "ipython3",
   "version": "3.9.22"
  }
 },
 "nbformat": 4,
 "nbformat_minor": 5
}
