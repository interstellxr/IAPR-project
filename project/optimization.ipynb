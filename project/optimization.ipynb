{
 "cells": [
  {
   "cell_type": "code",
   "execution_count": 31,
   "id": "1ba9dc01",
   "metadata": {},
   "outputs": [
    {
     "data": {
      "text/plain": [
       "<module 'chocodetector' from '/home/hthums/master_projects/IAPR/project/project/chocodetector.py'>"
      ]
     },
     "execution_count": 31,
     "metadata": {},
     "output_type": "execute_result"
    }
   ],
   "source": [
    "import importlib\n",
    "from chocodetector import *\n",
    "chocodetector = importlib.import_module('chocodetector')\n",
    "importlib.reload(chocodetector)"
   ]
  },
  {
   "cell_type": "code",
   "execution_count": 32,
   "id": "2e250089",
   "metadata": {},
   "outputs": [],
   "source": [
    "ref_dir = 'chocolate-recognition-classic/dataset_project_iapr2025/references/'\n",
    "train_dir = 'chocolate-recognition-classic/dataset_project_iapr2025/train/'\n",
    "\n",
    "df_gt = pd.read_csv('chocolate-recognition-classic/dataset_project_iapr2025/train.csv')\n",
    "\n",
    "\n",
    "df_pred = ChocoDetector(ref_path=ref_dir, train_path=train_dir, features=['gabor', 'lbp'],\n",
    "                        pca_percentile=0.95, blob_percentile=95, window_size=80, step_size=10, ood_percentile=95, \n",
    "                        dt_gt=df_gt)"
   ]
  },
  {
   "cell_type": "code",
   "execution_count": null,
   "id": "0cdaa7eb",
   "metadata": {},
   "outputs": [
    {
     "name": "stdout",
     "output_type": "stream",
     "text": [
      "Macro F1 Score (count-based): 0.2085\n",
      "Jelly White: 0.3357\n",
      "Jelly Milk: 0.2000\n",
      "Jelly Black: 0.2411\n",
      "Amandina: 0.4133\n",
      "Crème brulée: 0.2647\n",
      "Triangolo: 0.1935\n",
      "Tentation noir: 0.0000\n",
      "Comtesse: 0.0333\n",
      "Noblesse: 0.4478\n",
      "Noir authentique: 0.2716\n",
      "Passion au lait: 0.0000\n",
      "Arabia: 0.1194\n",
      "Stracciatella: 0.1905\n"
     ]
    }
   ],
   "source": [
    "y_true = df_gt.iloc[:, 1:].values\n",
    "y_pred = df_pred.iloc[:, 1:].values\n",
    "\n",
    "macro_f1, f1_per_class = f1_score_counts(y_true, y_pred)\n",
    "\n",
    "print(f\"Macro F1 Score: {macro_f1:.4f}\")\n",
    "\n",
    "for choc, f1_val in zip(df_gt.columns[1:], f1_per_class):\n",
    "    print(f\"{choc}: {f1_val:.4f}\")"
   ]
  },
  {
   "cell_type": "markdown",
   "id": "04347f7a",
   "metadata": {},
   "source": [
    "Optimization"
   ]
  },
  {
   "cell_type": "code",
   "execution_count": 34,
   "id": "95d739e0",
   "metadata": {},
   "outputs": [
    {
     "ename": "KeyboardInterrupt",
     "evalue": "",
     "output_type": "error",
     "traceback": [
      "\u001b[0;31m---------------------------------------------------------------------------\u001b[0m",
      "\u001b[0;31mKeyboardInterrupt\u001b[0m                         Traceback (most recent call last)",
      "Cell \u001b[0;32mIn[34], line 10\u001b[0m\n\u001b[1;32m      8\u001b[0m results \u001b[38;5;241m=\u001b[39m []\n\u001b[1;32m      9\u001b[0m \u001b[38;5;28;01mfor\u001b[39;00m blob_p, ood_p, pca_p, window \u001b[38;5;129;01min\u001b[39;00m product(blob_values, ood_values, pca_values, windows):\n\u001b[0;32m---> 10\u001b[0m     detector \u001b[38;5;241m=\u001b[39m \u001b[43mChocoDetector\u001b[49m\u001b[43m(\u001b[49m\u001b[43mref_path\u001b[49m\u001b[38;5;241;43m=\u001b[39;49m\u001b[43mref_dir\u001b[49m\u001b[43m,\u001b[49m\u001b[43m \u001b[49m\u001b[43mtrain_path\u001b[49m\u001b[38;5;241;43m=\u001b[39;49m\u001b[43mtrain_dir\u001b[49m\u001b[43m,\u001b[49m\n\u001b[1;32m     11\u001b[0m \u001b[43m                             \u001b[49m\u001b[43mfeatures\u001b[49m\u001b[38;5;241;43m=\u001b[39;49m\u001b[43m[\u001b[49m\u001b[38;5;124;43m'\u001b[39;49m\u001b[38;5;124;43mgabor\u001b[39;49m\u001b[38;5;124;43m'\u001b[39;49m\u001b[43m,\u001b[49m\u001b[43m \u001b[49m\u001b[38;5;124;43m'\u001b[39;49m\u001b[38;5;124;43mlbp\u001b[39;49m\u001b[38;5;124;43m'\u001b[39;49m\u001b[43m]\u001b[49m\u001b[43m,\u001b[49m\n\u001b[1;32m     12\u001b[0m \u001b[43m                             \u001b[49m\u001b[43mpca_percentile\u001b[49m\u001b[38;5;241;43m=\u001b[39;49m\u001b[43mpca_p\u001b[49m\u001b[43m,\u001b[49m\u001b[43m \u001b[49m\u001b[43mblob_percentile\u001b[49m\u001b[38;5;241;43m=\u001b[39;49m\u001b[43mblob_p\u001b[49m\u001b[43m,\u001b[49m\u001b[43m \u001b[49m\n\u001b[1;32m     13\u001b[0m \u001b[43m                             \u001b[49m\u001b[43mood_percentile\u001b[49m\u001b[38;5;241;43m=\u001b[39;49m\u001b[43mood_p\u001b[49m\u001b[43m,\u001b[49m\n\u001b[1;32m     14\u001b[0m \u001b[43m                             \u001b[49m\u001b[43mwindow_size\u001b[49m\u001b[38;5;241;43m=\u001b[39;49m\u001b[43mwindow\u001b[49m\u001b[43m,\u001b[49m\u001b[43m \u001b[49m\u001b[43mstep_size\u001b[49m\u001b[38;5;241;43m=\u001b[39;49m\u001b[38;5;241;43m10\u001b[39;49m\u001b[43m,\u001b[49m\u001b[43m \u001b[49m\u001b[43mdt_gt\u001b[49m\u001b[38;5;241;43m=\u001b[39;49m\u001b[43mdf_gt\u001b[49m\u001b[43m)\u001b[49m\n\u001b[1;32m     15\u001b[0m     y_pred \u001b[38;5;241m=\u001b[39m detector\u001b[38;5;241m.\u001b[39miloc[:, \u001b[38;5;241m1\u001b[39m:]\u001b[38;5;241m.\u001b[39mvalues\n\u001b[1;32m     16\u001b[0m     macro_f1, _ \u001b[38;5;241m=\u001b[39m f1_score_counts(y_true, y_pred)\n",
      "File \u001b[0;32m~/master_projects/IAPR/project/project/chocodetector.py:125\u001b[0m, in \u001b[0;36mChocoDetector\u001b[0;34m(ref_path, train_path, features, pca_percentile, blob_percentile, window_size, step_size, ood_percentile, dt_gt)\u001b[0m\n\u001b[1;32m    123\u001b[0m heatmaps\u001b[38;5;241m=\u001b[39m []\n\u001b[1;32m    124\u001b[0m \u001b[38;5;28;01mfor\u001b[39;00m img \u001b[38;5;129;01min\u001b[39;00m train_images_rgb:\n\u001b[0;32m--> 125\u001b[0m     heatmap \u001b[38;5;241m=\u001b[39m \u001b[43msliding_window_compare\u001b[49m\u001b[43m(\u001b[49m\u001b[43mimg\u001b[49m\u001b[43m,\u001b[49m\u001b[43m \u001b[49m\u001b[43mreference_histograms\u001b[49m\u001b[43m,\u001b[49m\u001b[43m \u001b[49m\u001b[43mwindow_size\u001b[49m\u001b[38;5;241;43m=\u001b[39;49m\u001b[43mwindow_size\u001b[49m\u001b[43m,\u001b[49m\u001b[43m \u001b[49m\u001b[43mstride\u001b[49m\u001b[38;5;241;43m=\u001b[39;49m\u001b[43mstep_size\u001b[49m\u001b[43m)\u001b[49m\n\u001b[1;32m    126\u001b[0m     threshold \u001b[38;5;241m=\u001b[39m np\u001b[38;5;241m.\u001b[39mpercentile(heatmap, blob_percentile)\n\u001b[1;32m    127\u001b[0m     heatmap \u001b[38;5;241m=\u001b[39m np\u001b[38;5;241m.\u001b[39mwhere(heatmap \u001b[38;5;241m>\u001b[39m\u001b[38;5;241m=\u001b[39m threshold, heatmap, \u001b[38;5;241m0\u001b[39m)\n",
      "File \u001b[0;32m~/master_projects/IAPR/project/project/utils.py:103\u001b[0m, in \u001b[0;36msliding_window_compare\u001b[0;34m(image_rgb, reference_histograms, window_size, stride, method)\u001b[0m\n\u001b[1;32m    100\u001b[0m     patch_hist \u001b[38;5;241m=\u001b[39m cv2\u001b[38;5;241m.\u001b[39mnormalize(patch_hist, patch_hist)\u001b[38;5;241m.\u001b[39mflatten()\u001b[38;5;241m.\u001b[39mastype(np\u001b[38;5;241m.\u001b[39mfloat32)\n\u001b[1;32m    102\u001b[0m     \u001b[38;5;66;03m# Compare to all reference histograms\u001b[39;00m\n\u001b[0;32m--> 103\u001b[0m     min_dist \u001b[38;5;241m=\u001b[39m \u001b[38;5;28mmin\u001b[39m([\n\u001b[1;32m    104\u001b[0m         cv2\u001b[38;5;241m.\u001b[39mcompareHist(patch_hist, ref_hist, cv2\u001b[38;5;241m.\u001b[39mHISTCMP_BHATTACHARYYA)\n\u001b[1;32m    105\u001b[0m         \u001b[38;5;28;01mfor\u001b[39;00m ref_hist \u001b[38;5;129;01min\u001b[39;00m reference_histograms\n\u001b[1;32m    106\u001b[0m     ])\n\u001b[1;32m    107\u001b[0m     similarity \u001b[38;5;241m=\u001b[39m \u001b[38;5;241m1.0\u001b[39m \u001b[38;5;241m-\u001b[39m min_dist  \u001b[38;5;66;03m# invert for similarity\u001b[39;00m\n\u001b[1;32m    109\u001b[0m heatmap[y \u001b[38;5;241m/\u001b[39m\u001b[38;5;241m/\u001b[39m stride, x \u001b[38;5;241m/\u001b[39m\u001b[38;5;241m/\u001b[39m stride] \u001b[38;5;241m=\u001b[39m similarity\n",
      "File \u001b[0;32m~/master_projects/IAPR/project/project/utils.py:104\u001b[0m, in \u001b[0;36m<listcomp>\u001b[0;34m(.0)\u001b[0m\n\u001b[1;32m    100\u001b[0m     patch_hist \u001b[38;5;241m=\u001b[39m cv2\u001b[38;5;241m.\u001b[39mnormalize(patch_hist, patch_hist)\u001b[38;5;241m.\u001b[39mflatten()\u001b[38;5;241m.\u001b[39mastype(np\u001b[38;5;241m.\u001b[39mfloat32)\n\u001b[1;32m    102\u001b[0m     \u001b[38;5;66;03m# Compare to all reference histograms\u001b[39;00m\n\u001b[1;32m    103\u001b[0m     min_dist \u001b[38;5;241m=\u001b[39m \u001b[38;5;28mmin\u001b[39m([\n\u001b[0;32m--> 104\u001b[0m         \u001b[43mcv2\u001b[49m\u001b[38;5;241;43m.\u001b[39;49m\u001b[43mcompareHist\u001b[49m\u001b[43m(\u001b[49m\u001b[43mpatch_hist\u001b[49m\u001b[43m,\u001b[49m\u001b[43m \u001b[49m\u001b[43mref_hist\u001b[49m\u001b[43m,\u001b[49m\u001b[43m \u001b[49m\u001b[43mcv2\u001b[49m\u001b[38;5;241;43m.\u001b[39;49m\u001b[43mHISTCMP_BHATTACHARYYA\u001b[49m\u001b[43m)\u001b[49m\n\u001b[1;32m    105\u001b[0m         \u001b[38;5;28;01mfor\u001b[39;00m ref_hist \u001b[38;5;129;01min\u001b[39;00m reference_histograms\n\u001b[1;32m    106\u001b[0m     ])\n\u001b[1;32m    107\u001b[0m     similarity \u001b[38;5;241m=\u001b[39m \u001b[38;5;241m1.0\u001b[39m \u001b[38;5;241m-\u001b[39m min_dist  \u001b[38;5;66;03m# invert for similarity\u001b[39;00m\n\u001b[1;32m    109\u001b[0m heatmap[y \u001b[38;5;241m/\u001b[39m\u001b[38;5;241m/\u001b[39m stride, x \u001b[38;5;241m/\u001b[39m\u001b[38;5;241m/\u001b[39m stride] \u001b[38;5;241m=\u001b[39m similarity\n",
      "\u001b[0;31mKeyboardInterrupt\u001b[0m: "
     ]
    }
   ],
   "source": [
    "from itertools import product\n",
    "\n",
    "blob_values = [80, 90, 95]\n",
    "ood_values = [80, 90, 95]\n",
    "pca_values = [0.95, 0.99, 0.9999]\n",
    "windows = [60, 80, 100]\n",
    "\n",
    "results = []\n",
    "for blob_p, ood_p, pca_p, window in product(blob_values, ood_values, pca_values, windows):\n",
    "    detector = ChocoDetector(ref_path=ref_dir, train_path=train_dir,\n",
    "                             features=['gabor', 'lbp'],\n",
    "                             pca_percentile=pca_p, blob_percentile=blob_p, \n",
    "                             ood_percentile=ood_p,\n",
    "                             window_size=window, step_size=10, dt_gt=df_gt)\n",
    "    y_pred = detector.iloc[:, 1:].values\n",
    "    macro_f1, _ = f1_score_counts(y_true, y_pred)\n",
    "    results.append((macro_f1, blob_p, ood_p, pca_p))\n",
    "\n",
    "results.sort(reverse=True)\n",
    "for f1, blob, ood, pca in results:\n",
    "    print(f\"F1={f1:.4f}, blob={blob}, ood={ood}, pca={pca}, window={window}\")\n"
   ]
  }
 ],
 "metadata": {
  "kernelspec": {
   "display_name": "iapr_project",
   "language": "python",
   "name": "python3"
  },
  "language_info": {
   "codemirror_mode": {
    "name": "ipython",
    "version": 3
   },
   "file_extension": ".py",
   "mimetype": "text/x-python",
   "name": "python",
   "nbconvert_exporter": "python",
   "pygments_lexer": "ipython3",
   "version": "3.9.22"
  }
 },
 "nbformat": 4,
 "nbformat_minor": 5
}
